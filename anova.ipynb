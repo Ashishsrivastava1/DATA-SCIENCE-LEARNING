{
 "cells": [
  {
   "cell_type": "markdown",
   "id": "9e9b299f",
   "metadata": {},
   "source": [
    "## Importing the Libraries"
   ]
  },
  {
   "cell_type": "code",
   "execution_count": 18,
   "id": "e8c60a12",
   "metadata": {},
   "outputs": [],
   "source": [
    "import numpy as np\n",
    "import pandas as pd\n",
    "import seaborn as sns\n",
    "from statsmodels.formula.api import ols\n",
    "from statsmodels.stats.anova import _get_covariance,anova_lm\n",
    "import matplotlib.pyplot as plt\n",
    "%matplotlib inline"
   ]
  },
  {
   "cell_type": "markdown",
   "id": "61ffe749",
   "metadata": {},
   "source": [
    "## Loading the Datasheet CSV files"
   ]
  },
  {
   "cell_type": "code",
   "execution_count": 8,
   "id": "2f0e664a",
   "metadata": {},
   "outputs": [],
   "source": [
    "df=pd.read_csv('C:/Users/ASHISH SRIVASTAVA/Downloads/Service.csv')"
   ]
  },
  {
   "cell_type": "markdown",
   "id": "90d01da4",
   "metadata": {},
   "source": [
    "## Checking the Top 5 Records"
   ]
  },
  {
   "cell_type": "code",
   "execution_count": 9,
   "id": "1c72214e",
   "metadata": {},
   "outputs": [
    {
     "data": {
      "text/html": [
       "<div>\n",
       "<style scoped>\n",
       "    .dataframe tbody tr th:only-of-type {\n",
       "        vertical-align: middle;\n",
       "    }\n",
       "\n",
       "    .dataframe tbody tr th {\n",
       "        vertical-align: top;\n",
       "    }\n",
       "\n",
       "    .dataframe thead th {\n",
       "        text-align: right;\n",
       "    }\n",
       "</style>\n",
       "<table border=\"1\" class=\"dataframe\">\n",
       "  <thead>\n",
       "    <tr style=\"text-align: right;\">\n",
       "      <th></th>\n",
       "      <th>Technician</th>\n",
       "      <th>Manufacturer</th>\n",
       "      <th>Job</th>\n",
       "      <th>Service_Time</th>\n",
       "    </tr>\n",
       "  </thead>\n",
       "  <tbody>\n",
       "    <tr>\n",
       "      <th>0</th>\n",
       "      <td>1</td>\n",
       "      <td>1</td>\n",
       "      <td>1</td>\n",
       "      <td>62</td>\n",
       "    </tr>\n",
       "    <tr>\n",
       "      <th>1</th>\n",
       "      <td>1</td>\n",
       "      <td>1</td>\n",
       "      <td>2</td>\n",
       "      <td>48</td>\n",
       "    </tr>\n",
       "    <tr>\n",
       "      <th>2</th>\n",
       "      <td>1</td>\n",
       "      <td>1</td>\n",
       "      <td>3</td>\n",
       "      <td>63</td>\n",
       "    </tr>\n",
       "    <tr>\n",
       "      <th>3</th>\n",
       "      <td>1</td>\n",
       "      <td>1</td>\n",
       "      <td>4</td>\n",
       "      <td>57</td>\n",
       "    </tr>\n",
       "    <tr>\n",
       "      <th>4</th>\n",
       "      <td>1</td>\n",
       "      <td>1</td>\n",
       "      <td>5</td>\n",
       "      <td>69</td>\n",
       "    </tr>\n",
       "  </tbody>\n",
       "</table>\n",
       "</div>"
      ],
      "text/plain": [
       "   Technician  Manufacturer  Job  Service_Time\n",
       "0           1             1    1            62\n",
       "1           1             1    2            48\n",
       "2           1             1    3            63\n",
       "3           1             1    4            57\n",
       "4           1             1    5            69"
      ]
     },
     "execution_count": 9,
     "metadata": {},
     "output_type": "execute_result"
    }
   ],
   "source": [
    "df.head()"
   ]
  },
  {
   "cell_type": "markdown",
   "id": "152c0c80",
   "metadata": {},
   "source": [
    "## Checking the shape and information in the datasheet"
   ]
  },
  {
   "cell_type": "code",
   "execution_count": 10,
   "id": "25851edb",
   "metadata": {},
   "outputs": [
    {
     "data": {
      "text/plain": [
       "(45, 4)"
      ]
     },
     "execution_count": 10,
     "metadata": {},
     "output_type": "execute_result"
    }
   ],
   "source": [
    "df.shape"
   ]
  },
  {
   "cell_type": "code",
   "execution_count": 11,
   "id": "ca31c4a0",
   "metadata": {},
   "outputs": [
    {
     "name": "stdout",
     "output_type": "stream",
     "text": [
      "<class 'pandas.core.frame.DataFrame'>\n",
      "RangeIndex: 45 entries, 0 to 44\n",
      "Data columns (total 4 columns):\n",
      " #   Column        Non-Null Count  Dtype\n",
      "---  ------        --------------  -----\n",
      " 0   Technician    45 non-null     int64\n",
      " 1   Manufacturer  45 non-null     int64\n",
      " 2   Job           45 non-null     int64\n",
      " 3   Service_Time  45 non-null     int64\n",
      "dtypes: int64(4)\n",
      "memory usage: 1.5 KB\n"
     ]
    }
   ],
   "source": [
    "df.info()"
   ]
  },
  {
   "cell_type": "markdown",
   "id": "7552e83c",
   "metadata": {},
   "source": [
    "## Checking the summary of the dataframe"
   ]
  },
  {
   "cell_type": "code",
   "execution_count": 13,
   "id": "7dc49340",
   "metadata": {},
   "outputs": [
    {
     "data": {
      "text/html": [
       "<div>\n",
       "<style scoped>\n",
       "    .dataframe tbody tr th:only-of-type {\n",
       "        vertical-align: middle;\n",
       "    }\n",
       "\n",
       "    .dataframe tbody tr th {\n",
       "        vertical-align: top;\n",
       "    }\n",
       "\n",
       "    .dataframe thead th {\n",
       "        text-align: right;\n",
       "    }\n",
       "</style>\n",
       "<table border=\"1\" class=\"dataframe\">\n",
       "  <thead>\n",
       "    <tr style=\"text-align: right;\">\n",
       "      <th></th>\n",
       "      <th>Technician</th>\n",
       "      <th>Manufacturer</th>\n",
       "      <th>Job</th>\n",
       "      <th>Service_Time</th>\n",
       "    </tr>\n",
       "  </thead>\n",
       "  <tbody>\n",
       "    <tr>\n",
       "      <th>count</th>\n",
       "      <td>45.000000</td>\n",
       "      <td>45.000000</td>\n",
       "      <td>45.000000</td>\n",
       "      <td>45.000000</td>\n",
       "    </tr>\n",
       "    <tr>\n",
       "      <th>mean</th>\n",
       "      <td>2.000000</td>\n",
       "      <td>2.000000</td>\n",
       "      <td>3.000000</td>\n",
       "      <td>55.822222</td>\n",
       "    </tr>\n",
       "    <tr>\n",
       "      <th>std</th>\n",
       "      <td>0.825723</td>\n",
       "      <td>0.825723</td>\n",
       "      <td>1.430194</td>\n",
       "      <td>8.448477</td>\n",
       "    </tr>\n",
       "    <tr>\n",
       "      <th>min</th>\n",
       "      <td>1.000000</td>\n",
       "      <td>1.000000</td>\n",
       "      <td>1.000000</td>\n",
       "      <td>39.000000</td>\n",
       "    </tr>\n",
       "    <tr>\n",
       "      <th>25%</th>\n",
       "      <td>1.000000</td>\n",
       "      <td>1.000000</td>\n",
       "      <td>2.000000</td>\n",
       "      <td>50.000000</td>\n",
       "    </tr>\n",
       "    <tr>\n",
       "      <th>50%</th>\n",
       "      <td>2.000000</td>\n",
       "      <td>2.000000</td>\n",
       "      <td>3.000000</td>\n",
       "      <td>56.000000</td>\n",
       "    </tr>\n",
       "    <tr>\n",
       "      <th>75%</th>\n",
       "      <td>3.000000</td>\n",
       "      <td>3.000000</td>\n",
       "      <td>4.000000</td>\n",
       "      <td>62.000000</td>\n",
       "    </tr>\n",
       "    <tr>\n",
       "      <th>max</th>\n",
       "      <td>3.000000</td>\n",
       "      <td>3.000000</td>\n",
       "      <td>5.000000</td>\n",
       "      <td>70.000000</td>\n",
       "    </tr>\n",
       "  </tbody>\n",
       "</table>\n",
       "</div>"
      ],
      "text/plain": [
       "       Technician  Manufacturer        Job  Service_Time\n",
       "count   45.000000     45.000000  45.000000     45.000000\n",
       "mean     2.000000      2.000000   3.000000     55.822222\n",
       "std      0.825723      0.825723   1.430194      8.448477\n",
       "min      1.000000      1.000000   1.000000     39.000000\n",
       "25%      1.000000      1.000000   2.000000     50.000000\n",
       "50%      2.000000      2.000000   3.000000     56.000000\n",
       "75%      3.000000      3.000000   4.000000     62.000000\n",
       "max      3.000000      3.000000   5.000000     70.000000"
      ]
     },
     "execution_count": 13,
     "metadata": {},
     "output_type": "execute_result"
    }
   ],
   "source": [
    "df.describe(include='all')"
   ]
  },
  {
   "cell_type": "markdown",
   "id": "b8d71f6e",
   "metadata": {},
   "source": [
    "## Checking distinct values of Technician"
   ]
  },
  {
   "cell_type": "code",
   "execution_count": 24,
   "id": "2ef4ec0d",
   "metadata": {},
   "outputs": [
    {
     "data": {
      "text/plain": [
       "1    15\n",
       "2    15\n",
       "3    15\n",
       "Name: Technician, dtype: int64"
      ]
     },
     "execution_count": 24,
     "metadata": {},
     "output_type": "execute_result"
    }
   ],
   "source": [
    "df.Technician.value_counts()\n"
   ]
  },
  {
   "cell_type": "markdown",
   "id": "b1b0e5e0",
   "metadata": {},
   "source": [
    "## Checking distinct values of Manufacturer"
   ]
  },
  {
   "cell_type": "code",
   "execution_count": 25,
   "id": "3ce5a6b6",
   "metadata": {},
   "outputs": [
    {
     "data": {
      "text/plain": [
       "1    15\n",
       "2    15\n",
       "3    15\n",
       "Name: Manufacturer, dtype: int64"
      ]
     },
     "execution_count": 25,
     "metadata": {},
     "output_type": "execute_result"
    }
   ],
   "source": [
    "df.Manufacturer.value_counts()"
   ]
  },
  {
   "cell_type": "markdown",
   "id": "994ba323",
   "metadata": {},
   "source": [
    "## 1. Formulate the Null and Alternate hypothesis"
   ]
  },
  {
   "cell_type": "markdown",
   "id": "11b5b36b",
   "metadata": {},
   "source": [
    "### Null and hypothesis with respect to technician\n",
    "### Ho= there is no significance difference in service time due to technician\n",
    "### H1= there is significance difference in service time due to technician"
   ]
  },
  {
   "cell_type": "markdown",
   "id": "e7d75959",
   "metadata": {},
   "source": [
    "### Null and hypothesis with respect to manufacturer\n",
    "### Ho= there is no significance difference in service time due to manufacturer\n",
    "### H1= there is significance difference in service time dur to manufacturer"
   ]
  },
  {
   "cell_type": "markdown",
   "id": "3841f169",
   "metadata": {},
   "source": [
    "## 2) Perform one-way ANOVA for variable ‘Manufacturer’ with respect to the variable ‘Service\n",
    "## Time, State weather the null hypothesis is accepted or rejected."
   ]
  },
  {
   "cell_type": "code",
   "execution_count": 38,
   "id": "b6de9983",
   "metadata": {},
   "outputs": [
    {
     "name": "stdout",
     "output_type": "stream",
     "text": [
      "                   df     sum_sq   mean_sq         F    PR(>F)\n",
      "C(Service_Time)  24.0  14.333333  0.597222  0.762411  0.739253\n",
      "Residual         20.0  15.666667  0.783333       NaN       NaN\n"
     ]
    }
   ],
   "source": [
    "formula='Manufacturer ~ C(Service_Time)'\n",
    "model = ols(formula,df).fit()\n",
    "aov_table= anova_lm(model)\n",
    "print(aov_table)"
   ]
  },
  {
   "cell_type": "markdown",
   "id": "12e411f7",
   "metadata": {},
   "source": [
    "### The p value is greater than 0.05 which means we can reject the null hypothesis. There is significant difference in service timemeans with respect to the manufacturer"
   ]
  },
  {
   "cell_type": "markdown",
   "id": "2daea8e2",
   "metadata": {},
   "source": [
    "## 3) Perform one-way ANOVA for variable ‘Technician’ with respect to the variable ‘Service Time'. state whether the null hypothesis is accepted or rejected based on  the ANOVA result."
   ]
  },
  {
   "cell_type": "code",
   "execution_count": 39,
   "id": "1135fb87",
   "metadata": {},
   "outputs": [
    {
     "name": "stdout",
     "output_type": "stream",
     "text": [
      "                   df     sum_sq   mean_sq         F    PR(>F)\n",
      "C(Service_Time)  24.0  14.166667  0.590278  0.745614  0.755742\n",
      "Residual         20.0  15.833333  0.791667       NaN       NaN\n"
     ]
    }
   ],
   "source": [
    "formula='Technician ~ C(Service_Time)'\n",
    "model = ols(formula,df).fit()\n",
    "aov_table= anova_lm(model)\n",
    "print(aov_table)"
   ]
  },
  {
   "cell_type": "markdown",
   "id": "4c10a8e3",
   "metadata": {},
   "source": [
    "### The P values greater then 0.05 which means we can reject the null hypothesis. There isa significant difference in service time means with respect to the technician."
   ]
  },
  {
   "cell_type": "markdown",
   "id": "2c6f175b",
   "metadata": {},
   "source": [
    "## 4) Analyse the effects of one variable on another with the help of an interaction plot. What is an interactions between two treatments?\n"
   ]
  },
  {
   "cell_type": "code",
   "execution_count": 41,
   "id": "5fcf5080",
   "metadata": {
    "scrolled": true
   },
   "outputs": [
    {
     "data": {
      "text/plain": [
       "<AxesSubplot:xlabel='Manufacturer', ylabel='Service_Time'>"
      ]
     },
     "execution_count": 41,
     "metadata": {},
     "output_type": "execute_result"
    },
    {
     "data": {
      "image/png": "[encoded data removed]",
      "text/plain": [
       "<Figure size 432x288 with 1 Axes>"
      ]
     },
     "metadata": {
      "needs_background": "light"
     },
     "output_type": "display_data"
    }
   ],
   "source": [
    "sns.pointplot(x='Manufacturer', y='Service_Time',data=df,hue='Technician')"
   ]
  },
  {
   "cell_type": "markdown",
   "id": "afc68b44",
   "metadata": {},
   "source": [
    "### When the lines are parallel then there will be interaction. The above plot shows that their are no interaction between the two vaiables."
   ]
  },
  {
   "cell_type": "markdown",
   "id": "18642e0b",
   "metadata": {},
   "source": [
    "## 5) Perform a two-way ANOVA based on the variables ‘Manufacturer’ & ‘Technician’ with respect to the variables 'Service Time' and state your results."
   ]
  },
  {
   "cell_type": "code",
   "execution_count": 42,
   "id": "a7a43852",
   "metadata": {},
   "outputs": [
    {
     "name": "stdout",
     "output_type": "stream",
     "text": [
      "                   df       sum_sq    mean_sq         F    PR(>F)\n",
      "C(Manufacturer)   2.0    28.311111  14.155556  0.183381  0.833147\n",
      "C(Technician)     2.0    24.577778  12.288889  0.159199  0.853365\n",
      "Residual         40.0  3087.688889  77.192222       NaN       NaN\n"
     ]
    }
   ],
   "source": [
    "formula='Service_Time~C(Manufacturer)+C(Technician)'\n",
    "model=ols(formula,df).fit()\n",
    "aov_table=anova_lm(model)\n",
    "print(aov_table)"
   ]
  },
  {
   "cell_type": "code",
   "execution_count": 47,
   "id": "99903095",
   "metadata": {},
   "outputs": [
    {
     "name": "stdout",
     "output_type": "stream",
     "text": [
      "                                 df       sum_sq     mean_sq         F  \\\n",
      "C(Manufacturer)                 2.0    28.311111   14.155556  0.272164   \n",
      "C(Technician)                   2.0    24.577778   12.288889  0.236274   \n",
      "C(Manufacturer):C(Technician)   4.0  1215.288889  303.822222  5.841487   \n",
      "Residual                       36.0  1872.400000   52.011111       NaN   \n",
      "\n",
      "                                 PR(>F)  \n",
      "C(Manufacturer)                0.763283  \n",
      "C(Technician)                  0.790779  \n",
      "C(Manufacturer):C(Technician)  0.000994  \n",
      "Residual                            NaN  \n"
     ]
    }
   ],
   "source": [
    " formula='Service_Time~C(Manufacturer)+C(Technician)+C(Manufacturer):C(Technician)'\n",
    " model=ols(formula,df).fit()\n",
    " aov_table=anova_lm(model)\n",
    " print(aov_table)"
   ]
  },
  {
   "cell_type": "code",
   "execution_count": null,
   "id": "f4cab7b8",
   "metadata": {},
   "outputs": [],
   "source": []
  }
 ],
 "metadata": {
  "kernelspec": {
   "display_name": "Python 3",
   "language": "python",
   "name": "python3"
  },
  "language_info": {
   "codemirror_mode": {
    "name": "ipython",
    "version": 3
   },
   "file_extension": ".py",
   "mimetype": "text/x-python",
   "name": "python",
   "nbconvert_exporter": "python",
   "pygments_lexer": "ipython3",
   "version": "3.8.8"
  }
 },
 "nbformat": 4,
 "nbformat_minor": 5
}
