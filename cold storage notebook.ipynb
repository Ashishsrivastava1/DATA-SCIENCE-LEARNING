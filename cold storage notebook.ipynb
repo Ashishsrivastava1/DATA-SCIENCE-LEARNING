{
 "cells": [
  {
   "cell_type": "code",
   "execution_count": 7,
   "id": "7aa5e468",
   "metadata": {},
   "outputs": [],
   "source": [
    "import numpy as np\n",
    "import pandas as pd\n",
    "import matplotlib.pyplot as plt\n",
    "%matplotlib inline\n",
    "import seaborn as sns"
   ]
  },
  {
   "cell_type": "code",
   "execution_count": 9,
   "id": "d71330b5",
   "metadata": {},
   "outputs": [],
   "source": [
    "df =pd.read_csv(\"C:/Users/ASHISH SRIVASTAVA/Downloads/Cold_Storage_Temp_Data_-1.csv\")"
   ]
  },
  {
   "cell_type": "code",
   "execution_count": 10,
   "id": "ad845504",
   "metadata": {},
   "outputs": [
    {
     "data": {
      "text/html": [
       "<div>\n",
       "<style scoped>\n",
       "    .dataframe tbody tr th:only-of-type {\n",
       "        vertical-align: middle;\n",
       "    }\n",
       "\n",
       "    .dataframe tbody tr th {\n",
       "        vertical-align: top;\n",
       "    }\n",
       "\n",
       "    .dataframe thead th {\n",
       "        text-align: right;\n",
       "    }\n",
       "</style>\n",
       "<table border=\"1\" class=\"dataframe\">\n",
       "  <thead>\n",
       "    <tr style=\"text-align: right;\">\n",
       "      <th></th>\n",
       "      <th>Season</th>\n",
       "      <th>Month</th>\n",
       "      <th>Date</th>\n",
       "      <th>Temperature</th>\n",
       "    </tr>\n",
       "  </thead>\n",
       "  <tbody>\n",
       "    <tr>\n",
       "      <th>0</th>\n",
       "      <td>Winter</td>\n",
       "      <td>Jan</td>\n",
       "      <td>1</td>\n",
       "      <td>2.3</td>\n",
       "    </tr>\n",
       "    <tr>\n",
       "      <th>1</th>\n",
       "      <td>Winter</td>\n",
       "      <td>Jan</td>\n",
       "      <td>2</td>\n",
       "      <td>2.2</td>\n",
       "    </tr>\n",
       "    <tr>\n",
       "      <th>2</th>\n",
       "      <td>Winter</td>\n",
       "      <td>Jan</td>\n",
       "      <td>3</td>\n",
       "      <td>2.4</td>\n",
       "    </tr>\n",
       "    <tr>\n",
       "      <th>3</th>\n",
       "      <td>Winter</td>\n",
       "      <td>Jan</td>\n",
       "      <td>4</td>\n",
       "      <td>2.8</td>\n",
       "    </tr>\n",
       "    <tr>\n",
       "      <th>4</th>\n",
       "      <td>Winter</td>\n",
       "      <td>Jan</td>\n",
       "      <td>5</td>\n",
       "      <td>2.5</td>\n",
       "    </tr>\n",
       "  </tbody>\n",
       "</table>\n",
       "</div>"
      ],
      "text/plain": [
       "   Season Month  Date  Temperature\n",
       "0  Winter   Jan     1          2.3\n",
       "1  Winter   Jan     2          2.2\n",
       "2  Winter   Jan     3          2.4\n",
       "3  Winter   Jan     4          2.8\n",
       "4  Winter   Jan     5          2.5"
      ]
     },
     "execution_count": 10,
     "metadata": {},
     "output_type": "execute_result"
    }
   ],
   "source": [
    "df.head()"
   ]
  },
  {
   "cell_type": "markdown",
   "id": "8958db05",
   "metadata": {},
   "source": [
    "## 1. Find mean cold storage temperature for Summer, Winter, and Rainy Season."
   ]
  },
  {
   "cell_type": "code",
   "execution_count": 12,
   "id": "859350f7",
   "metadata": {},
   "outputs": [
    {
     "name": "stdout",
     "output_type": "stream",
     "text": [
      "Mean Temperature for Summer =  3.1475\n",
      "Mean Temperature for Winter =  2.776422764227643\n",
      "Mean Temperature for Rainy =  3.0877049180327876\n"
     ]
    }
   ],
   "source": [
    "print('Mean Temperature for Summer = ',df[df['Season']== 'Summer']['Temperature'].mean())\n",
    "print('Mean Temperature for Winter = ',df[df['Season']== 'Winter']['Temperature'].mean())\n",
    "print('Mean Temperature for Rainy = ',df[df['Season']== 'Rainy']['Temperature'].mean())"
   ]
  },
  {
   "cell_type": "markdown",
   "id": "bc8a145a",
   "metadata": {},
   "source": [
    "## 2. Find the overall mean for the full year."
   ]
  },
  {
   "cell_type": "code",
   "execution_count": 14,
   "id": "78178ff8",
   "metadata": {},
   "outputs": [
    {
     "data": {
      "text/plain": [
       "3.0024657534246546"
      ]
     },
     "execution_count": 14,
     "metadata": {},
     "output_type": "execute_result"
    }
   ],
   "source": [
    "df['Temperature'].mean()"
   ]
  },
  {
   "cell_type": "markdown",
   "id": "2d9690d9",
   "metadata": {},
   "source": [
    "## 3. Find Standard Deviation for the full year."
   ]
  },
  {
   "cell_type": "code",
   "execution_count": 17,
   "id": "e7c91211",
   "metadata": {},
   "outputs": [
    {
     "data": {
      "text/plain": [
       "0.4658319416510761"
      ]
     },
     "execution_count": 17,
     "metadata": {},
     "output_type": "execute_result"
    }
   ],
   "source": [
    "df['Temperature'].std()"
   ]
  },
  {
   "cell_type": "markdown",
   "id": "cfd65ec9",
   "metadata": {},
   "source": [
    "## 4. Assume Normal distribution, what is the probability of temperature having fallen below 2o C?"
   ]
  },
  {
   "cell_type": "code",
   "execution_count": 28,
   "id": "4e558e5b",
   "metadata": {},
   "outputs": [
    {
     "name": "stdout",
     "output_type": "stream",
     "text": [
      "Probability of temperature having fallen below 2C is  0.015699064791364483\n"
     ]
    }
   ],
   "source": [
    "from scipy.stats import norm\n",
    "p_2 = norm(df['Temperature'].mean(),df['Temperature'].std()).cdf(2)\n",
    "\n",
    "print('Probability of temperature having fallen below 2C is ',p_2)"
   ]
  },
  {
   "cell_type": "markdown",
   "id": "a80180b2",
   "metadata": {},
   "source": [
    "## 5. Assume Normal distribution, what is the probability of temperature having gone above 4o C?"
   ]
  },
  {
   "cell_type": "code",
   "execution_count": 29,
   "id": "0e4e4228",
   "metadata": {},
   "outputs": [
    {
     "name": "stdout",
     "output_type": "stream",
     "text": [
      "Probability of temperature having gone above 4C is  0.016120748141275808\n"
     ]
    }
   ],
   "source": [
    "p_4 = norm(df['Temperature'].mean(),df['Temperature'].std()).sf(4)\n",
    "\n",
    "print('Probability of temperature having gone above 4C is ',p_4)"
   ]
  },
  {
   "cell_type": "markdown",
   "id": "934f9930",
   "metadata": {},
   "source": [
    "## 6. What will be the penalty for the AMC Company?"
   ]
  },
  {
   "cell_type": "code",
   "execution_count": 36,
   "id": "4ca03064",
   "metadata": {},
   "outputs": [
    {
     "name": "stdout",
     "output_type": "stream",
     "text": [
      "According to contract if probability is above 2.5% and less than 5% then Penalty is 10% of AMC\n"
     ]
    }
   ],
   "source": [
    "totl_p = round((p_2+p_4)*100,2)\n",
    "\n",
    "if totl_p > 2.5 and totl_p < 5:\n",
    "    \n",
    "    print(f'According to contract if probability is above 2.5% and less than 5% then Penalty is 10% of AMC')\n",
    "    \n",
    "elif totl_p >5:\n",
    "    print(f'According to contract if probability is above 5% then Penalty is 25% of AMC')\n",
    "\n",
    "else:\n",
    "    print('No Penalty')"
   ]
  },
  {
   "cell_type": "markdown",
   "id": "caf5940b",
   "metadata": {},
   "source": [
    "# PROBLEM 2"
   ]
  },
  {
   "cell_type": "code",
   "execution_count": 37,
   "id": "726ef8f4",
   "metadata": {},
   "outputs": [],
   "source": [
    "df2=pd.read_csv('C:/Users/ASHISH SRIVASTAVA/Downloads/Cold_Storage_Mar2018_.csv')"
   ]
  },
  {
   "cell_type": "code",
   "execution_count": 39,
   "id": "0c556acc",
   "metadata": {},
   "outputs": [
    {
     "data": {
      "text/html": [
       "<div>\n",
       "<style scoped>\n",
       "    .dataframe tbody tr th:only-of-type {\n",
       "        vertical-align: middle;\n",
       "    }\n",
       "\n",
       "    .dataframe tbody tr th {\n",
       "        vertical-align: top;\n",
       "    }\n",
       "\n",
       "    .dataframe thead th {\n",
       "        text-align: right;\n",
       "    }\n",
       "</style>\n",
       "<table border=\"1\" class=\"dataframe\">\n",
       "  <thead>\n",
       "    <tr style=\"text-align: right;\">\n",
       "      <th></th>\n",
       "      <th>Season</th>\n",
       "      <th>Month</th>\n",
       "      <th>Date</th>\n",
       "      <th>Temperature</th>\n",
       "    </tr>\n",
       "  </thead>\n",
       "  <tbody>\n",
       "    <tr>\n",
       "      <th>0</th>\n",
       "      <td>Summer</td>\n",
       "      <td>Feb</td>\n",
       "      <td>11</td>\n",
       "      <td>4.0</td>\n",
       "    </tr>\n",
       "    <tr>\n",
       "      <th>1</th>\n",
       "      <td>Summer</td>\n",
       "      <td>Feb</td>\n",
       "      <td>12</td>\n",
       "      <td>3.9</td>\n",
       "    </tr>\n",
       "    <tr>\n",
       "      <th>2</th>\n",
       "      <td>Summer</td>\n",
       "      <td>Feb</td>\n",
       "      <td>13</td>\n",
       "      <td>3.9</td>\n",
       "    </tr>\n",
       "    <tr>\n",
       "      <th>3</th>\n",
       "      <td>Summer</td>\n",
       "      <td>Feb</td>\n",
       "      <td>14</td>\n",
       "      <td>4.0</td>\n",
       "    </tr>\n",
       "    <tr>\n",
       "      <th>4</th>\n",
       "      <td>Summer</td>\n",
       "      <td>Feb</td>\n",
       "      <td>15</td>\n",
       "      <td>3.8</td>\n",
       "    </tr>\n",
       "  </tbody>\n",
       "</table>\n",
       "</div>"
      ],
      "text/plain": [
       "   Season Month  Date   Temperature \n",
       "0  Summer   Feb    11            4.0\n",
       "1  Summer   Feb    12            3.9\n",
       "2  Summer   Feb    13            3.9\n",
       "3  Summer   Feb    14            4.0\n",
       "4  Summer   Feb    15            3.8"
      ]
     },
     "execution_count": 39,
     "metadata": {},
     "output_type": "execute_result"
    }
   ],
   "source": [
    "df2.head()"
   ]
  },
  {
   "cell_type": "markdown",
   "id": "1016ab1f",
   "metadata": {},
   "source": [
    "## 1. Which Hypothesis test shall be performed to check if corrective action is needed at the cold storage plant? Justify your answer.\n"
   ]
  },
  {
   "cell_type": "markdown",
   "id": "55f18e75",
   "metadata": {},
   "source": [
    "### As the Data set is small which is around 35 samples T Test will suit best for this Situation based on the Result we can decide if Corrective action is needed or not."
   ]
  },
  {
   "cell_type": "markdown",
   "id": "94caf865",
   "metadata": {},
   "source": [
    "## 2. State the Hypothesis and do the necessary calculations to accept or reject the corresponding null\n"
   ]
  },
  {
   "cell_type": "markdown",
   "id": "397222bb",
   "metadata": {},
   "source": [
    "### One Sample T Test"
   ]
  },
  {
   "cell_type": "code",
   "execution_count": 60,
   "id": "990c21da",
   "metadata": {},
   "outputs": [
    {
     "name": "stdout",
     "output_type": "stream",
     "text": [
      "Test statistic is 0.158790\n",
      "p-value for one tailed test is 0.437387\n"
     ]
    }
   ],
   "source": [
    "from scipy import stats\n",
    "\n",
    "t_value,p_value=stats.ttest_1samp(df2[' Temperature '],round(mean,2))\n",
    "\n",
    "one_tailed_p_value=float(\"{:.6f}\".format(p_value/2)) # Since alternative hypothesis is one tailed, We need to divide the p value by 2.\n",
    "\n",
    "print('Test statistic is %f'%float(\"{:.6f}\".format(t_value)))\n",
    "\n",
    "print('p-value for one tailed test is %f'%one_tailed_p_value)"
   ]
  },
  {
   "cell_type": "markdown",
   "id": "527a8267",
   "metadata": {},
   "source": [
    "### At  the  level  of  10%  significance,  p-value  =  0.43.    Since  p-value  >  0.1, We have no evidence to Reject null Hypothesis so decision should be the problem is from procurement side"
   ]
  },
  {
   "cell_type": "code",
   "execution_count": null,
   "id": "0bb66796",
   "metadata": {},
   "outputs": [],
   "source": []
  }
 ],
 "metadata": {
  "kernelspec": {
   "display_name": "Python 3",
   "language": "python",
   "name": "python3"
  },
  "language_info": {
   "codemirror_mode": {
    "name": "ipython",
    "version": 3
   },
   "file_extension": ".py",
   "mimetype": "text/x-python",
   "name": "python",
   "nbconvert_exporter": "python",
   "pygments_lexer": "ipython3",
   "version": "3.8.8"
  }
 },
 "nbformat": 4,
 "nbformat_minor": 5
}
